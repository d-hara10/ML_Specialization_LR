{
 "cells": [
  {
   "cell_type": "markdown",
   "metadata": {},
   "source": [
    "# Deep Q-Learning - Lunar Lander\n",
    "\n",
    "In this assignment, you will train an agent to land a lunar lander safely on a landing pad on the surface of the moon.\n",
    "\n",
    "\n",
    "# Outline\n",
    "- [ 1 - Import Packages <img align=\"Right\" src=\"./images/lunar_lander.gif\" width = 60% >](#1)\n",
    "- [ 2 - Hyperparameters](#2)\n",
    "- [ 3 - The Lunar Lander Environment](#3)\n",
    "  - [ 3.1 Action Space](#3.1)\n",
    "  - [ 3.2 Observation Space](#3.2)\n",
    "  - [ 3.3 Rewards](#3.3)\n",
    "  - [ 3.4 Episode Termination](#3.4)\n",
    "- [ 4 - Load the Environment](#4)\n",
    "- [ 5 - Interacting with the Gym Environment](#5)\n",
    "    - [ 5.1 Exploring the Environment's Dynamics](#5.1)\n",
    "- [ 6 - Deep Q-Learning](#6)\n",
    "  - [ 6.1 Target Network](#6.1)\n",
    "    - [ Exercise 1](#ex01)\n",
    "  - [ 6.2 Experience Replay](#6.2)\n",
    "- [ 7 - Deep Q-Learning Algorithm with Experience Replay](#7)\n",
    "  - [ Exercise 2](#ex02)\n",
    "- [ 8 - Update the Network Weights](#8)\n",
    "- [ 9 - Train the Agent](#9)\n",
    "- [ 10 - See the Trained Agent In Action](#10)\n",
    "- [ 11 - Congratulations!](#11)\n",
    "- [ 12 - References](#12)\n"
   ]
  },
  {
   "cell_type": "markdown",
   "metadata": {},
   "source": [
    "_**NOTE:** To prevent errors from the autograder, you are not allowed to edit or delete non-graded cells in this lab. Please also refrain from adding any new cells. \n",
    "**Once you have passed this assignment** and want to experiment with any of the non-graded code, you may follow the instructions at the bottom of this notebook._"
   ]
  },
  {
   "cell_type": "markdown",
   "metadata": {},
   "source": [
    "<a name=\"1\"></a>\n",
    "## 1 - Import Packages\n",
    "\n",
    "We'll make use of the following packages:\n",
    "- `numpy` is a package for scientific computing in python.\n",
    "- `deque` will be our data structure for our memory buffer.\n",
    "- `namedtuple` will be used to store the experience tuples.\n",
    "- The `gym` toolkit is a collection of environments that can be used to test reinforcement learning algorithms. We should note that in this notebook we are using `gym` version `0.24.0`.\n",
    "- `PIL.Image` and `pyvirtualdisplay` are needed to render the Lunar Lander environment.\n",
    "- We will use several modules from the `tensorflow.keras` framework for building deep learning models.\n",
    "- `utils` is a module that contains helper functions for this assignment. You do not need to modify the code in this file.\n",
    "\n",
    "Run the cell below to import all the necessary packages."
   ]
  },
  {
   "cell_type": "code",
   "execution_count": 1,
   "metadata": {
    "deletable": false,
    "editable": false,
    "id": "KYbOPKRtfQOr"
   },
   "outputs": [],
   "source": [
    "import time\n",
    "from collections import deque, namedtuple\n",
    "\n",
    "import gym\n",
    "import numpy as np\n",
    "import PIL.Image\n",
    "import tensorflow as tf\n",
    "import utils\n",
    "\n",
    "from pyvirtualdisplay import Display\n",
    "from tensorflow.keras import Sequential\n",
    "from tensorflow.keras.layers import Dense, Input\n",
    "from tensorflow.keras.losses import MSE\n",
    "from tensorflow.keras.optimizers import Adam"
   ]
  },
  {
   "cell_type": "code",
   "execution_count": 2,
   "metadata": {
    "deletable": false,
    "editable": false
   },
   "outputs": [],
   "source": [
    "# Set up a virtual display to render the Lunar Lander environment.\n",
    "Display(visible=0, size=(840, 480)).start();\n",
    "\n",
    "# Set the random seed for TensorFlow\n",
    "tf.random.set_seed(utils.SEED)"
   ]
  },
  {
   "cell_type": "markdown",
   "metadata": {},
   "source": [
    "<a name=\"2\"></a>\n",
    "## 2 - Hyperparameters\n",
    "\n",
    "Run the cell below to set the hyperparameters."
   ]
  },
  {
   "cell_type": "code",
   "execution_count": 3,
   "metadata": {
    "deletable": false,
    "editable": false
   },
   "outputs": [],
   "source": [
    "MEMORY_SIZE = 100_000     # size of memory buffer\n",
    "GAMMA = 0.995             # discount factor\n",
    "ALPHA = 1e-3              # learning rate  \n",
    "NUM_STEPS_FOR_UPDATE = 4  # perform a learning update every C time steps"
   ]
  },
  {
   "cell_type": "markdown",
   "metadata": {},
   "source": [
    "<a name=\"3\"></a>\n",
    "## 3 - The Lunar Lander Environment\n",
    "\n",
    "In this notebook we will be using [OpenAI's Gym Library](https://www.gymlibrary.dev/). The Gym library provides a wide variety of environments for reinforcement learning. To put it simply, an environment represents a problem or task to be solved. In this notebook, we will try to solve the Lunar Lander environment using reinforcement learning.\n",
    "\n",
    "The goal of the Lunar Lander environment is to land the lunar lander safely on the landing pad on the surface of the moon. The landing pad is designated by two flag poles and its center is at coordinates `(0,0)` but the lander is also allowed to land outside of the landing pad. The lander starts at the top center of the environment with a random initial force applied to its center of mass and has infinite fuel. The environment is considered solved if you get `200` points. \n",
    "\n",
    "<br>\n",
    "<br>\n",
    "<figure>\n",
    "  <img src = \"images/lunar_lander.gif\" width = 40%>\n",
    "      <figcaption style = \"text-align: center; font-style: italic\">Fig 1. Lunar Lander Environment.</figcaption>\n",
    "</figure>\n",
    "\n",
    "\n",
    "\n",
    "<a name=\"3.1\"></a>\n",
    "### 3.1 Action Space\n",
    "\n",
    "The agent has four discrete actions available:\n",
    "\n",
    "* Do nothing.\n",
    "* Fire right engine.\n",
    "* Fire main engine.\n",
    "* Fire left engine.\n",
    "\n",
    "Each action has a corresponding numerical value:\n",
    "\n",
    "```python\n",
    "Do nothing = 0\n",
    "Fire right engine = 1\n",
    "Fire main engine = 2\n",
    "Fire left engine = 3\n",
    "```\n",
    "\n",
    "<a name=\"3.2\"></a>\n",
    "### 3.2 Observation Space\n",
    "\n",
    "The agent's observation space consists of a state vector with 8 variables:\n",
    "\n",
    "* Its $(x,y)$ coordinates. The landing pad is always at coordinates $(0,0)$.\n",
    "* Its linear velocities $(\\dot x,\\dot y)$.\n",
    "* Its angle $\\theta$.\n",
    "* Its angular velocity $\\dot \\theta$.\n",
    "* Two booleans, $l$ and $r$, that represent whether each leg is in contact with the ground or not.\n",
    "\n",
    "<a name=\"3.3\"></a>\n",
    "### 3.3 Rewards\n",
    "\n",
    "After every step, a reward is granted. The total reward of an episode is the sum of the rewards for all the steps within that episode.\n",
    "\n",
    "For each step, the reward:\n",
    "- is increased/decreased the closer/further the lander is to the landing pad.\n",
    "- is increased/decreased the slower/faster the lander is moving.\n",
    "- is decreased the more the lander is tilted (angle not horizontal).\n",
    "- is increased by 10 points for each leg that is in contact with the ground.\n",
    "- is decreased by 0.03 points each frame a side engine is firing.\n",
    "- is decreased by 0.3 points each frame the main engine is firing.\n",
    "\n",
    "The episode receives an additional reward of -100 or +100 points for crashing or landing safely respectively.\n",
    "\n",
    "<a name=\"3.4\"></a>\n",
    "### 3.4 Episode Termination\n",
    "\n",
    "An episode ends (i.e the environment enters a terminal state) if:\n",
    "\n",
    "* The lunar lander crashes (i.e if the body of the lunar lander comes in contact with the surface of the moon).\n",
    "\n",
    "* The absolute value of the lander's $x$-coordinate is greater than 1 (i.e. it goes beyond the left or right border)\n",
    "\n",
    "You can check out the [Open AI Gym documentation](https://www.gymlibrary.dev/environments/box2d/lunar_lander/) for a full description of the environment. "
   ]
  },
  {
   "cell_type": "markdown",
   "metadata": {},
   "source": [
    "<a name=\"4\"></a>\n",
    "## 4 - Load the Environment\n",
    "\n",
    "We start by loading the `LunarLander-v2` environment from the `gym` library by using the `.make()` method. `LunarLander-v2` is the latest version of the Lunar Lander environment and you can read about its version history in the [Open AI Gym documentation](https://www.gymlibrary.dev/environments/box2d/lunar_lander/#version-history)."
   ]
  },
  {
   "cell_type": "code",
   "execution_count": 4,
   "metadata": {
    "deletable": false,
    "editable": false,
    "id": "ILVMYKewfR0n"
   },
   "outputs": [],
   "source": [
    "env = gym.make('LunarLander-v2')"
   ]
  },
  {
   "cell_type": "markdown",
   "metadata": {},
   "source": [
    "Once we load the environment we use the `.reset()` method to reset the environment to the initial state. The lander starts at the top center of the environment and we can render the first frame of the environment by using the `.render()` method."
   ]
  },
  {
   "cell_type": "code",
   "execution_count": 5,
   "metadata": {
    "deletable": false,
    "editable": false
   },
   "outputs": [
    {
     "data": {
      "image/png": "[encoded data removed]",
      "text/plain": [
       "<PIL.Image.Image image mode=RGB size=600x400 at 0x7AC41CA84F10>"
      ]
     },
     "execution_count": 5,
     "metadata": {},
     "output_type": "execute_result"
    }
   ],
   "source": [
    "env.reset()\n",
    "PIL.Image.fromarray(env.render(mode='rgb_array'))"
   ]
  },
  {
   "cell_type": "markdown",
   "metadata": {},
   "source": [
    "In order to build our neural network later on we need to know the size of the state vector and the number of valid actions. We can get this information from our environment by using the `.observation_space.shape` and `action_space.n` methods, respectively."
   ]
  },
  {
   "cell_type": "code",
   "execution_count": 6,
   "metadata": {
    "deletable": false,
    "editable": false,
    "id": "x3fdqdG4CUu2"
   },
   "outputs": [
    {
     "name": "stdout",
     "output_type": "stream",
     "text": [
      "State Shape: (8,)\n",
      "Number of actions: 4\n"
     ]
    }
   ],
   "source": [
    "state_size = env.observation_space.shape\n",
    "num_actions = env.action_space.n\n",
    "\n",
    "print('State Shape:', state_size)\n",
    "print('Number of actions:', num_actions)"
   ]
  },
  {
   "cell_type": "markdown",
   "metadata": {},
   "source": [
    "<a name=\"5\"></a>\n",
    "## 5 - Interacting with the Gym Environment\n",
    "\n",
    "The Gym library implements the standard “agent-environment loop” formalism:\n",
    "\n",
    "<br>\n",
    "<center>\n",
    "<video src = \"./videos/rl_formalism.m4v\" width=\"840\" height=\"480\" controls autoplay loop poster=\"./images/rl_formalism.png\"> </video>\n",
    "<figcaption style = \"text-align:center; font-style:italic\">Fig 2. Agent-environment Loop Formalism.</figcaption>\n",
    "</center>\n",
    "<br>\n",
    "\n",
    "In the standard “agent-environment loop” formalism, an agent interacts with the environment in discrete time steps $t=0,1,2,...$. At each time step $t$, the agent uses a policy $\\pi$ to select an action $A_t$ based on its observation of the environment's state $S_t$. The agent receives a numerical reward $R_t$ and on the next time step, moves to a new state $S_{t+1}$.\n",
    "\n",
    "<a name=\"5.1\"></a>\n",
    "### 5.1 Exploring the Environment's Dynamics\n",
    "\n",
    "In Open AI's Gym environments, we use the `.step()` method to run a single time step of the environment's dynamics. In the version of `gym` that we are using the `.step()` method accepts an action and returns four values:\n",
    "\n",
    "* `observation` (**object**): an environment-specific object representing your observation of the environment. In the Lunar Lander environment this corresponds to a numpy array containing the positions and velocities of the lander as described in section [3.2 Observation Space](#3.2).\n",
    "\n",
    "\n",
    "* `reward` (**float**): amount of reward returned as a result of taking the given action. In the Lunar Lander environment this corresponds to a float of type `numpy.float64` as described in section [3.3 Rewards](#3.3).\n",
    "\n",
    "\n",
    "* `done` (**boolean**): When done is `True`, it indicates the episode has terminated and it’s time to reset the environment. \n",
    "\n",
    "\n",
    "* `info` (**dictionary**): diagnostic information useful for debugging. We won't be using this variable in this notebook but it is shown here for completeness.\n",
    "\n",
    "To begin an episode, we need to reset the environment to an initial state. We do this by using the `.reset()` method. "
   ]
  },
  {
   "cell_type": "code",
   "execution_count": 7,
   "metadata": {
    "deletable": false,
    "editable": false
   },
   "outputs": [],
   "source": [
    "# Reset the environment and get the initial state.\n",
    "current_state = env.reset()"
   ]
  },
  {
   "cell_type": "markdown",
   "metadata": {},
   "source": [
    "Once the environment is reset, the agent can start taking actions in the environment by using the `.step()` method. Note that the agent can only take one action per time step. \n",
    "\n",
    "In the cell below you can select different actions and see how the returned values change depending on the action taken. Remember that in this environment the agent has four discrete actions available and we specify them in code by using their corresponding numerical value:\n",
    "\n",
    "```python\n",
    "Do nothing = 0\n",
    "Fire right engine = 1\n",
    "Fire main engine = 2\n",
    "Fire left engine = 3\n",
    "```"
   ]
  },
  {
   "cell_type": "code",
   "execution_count": 8,
   "metadata": {
    "deletable": false
   },
   "outputs": [
    {
     "data": {
      "text/html": [
       "<style  type=\"text/css\" >\n",
       "    #T_d7a7e852_6684_11ef_9228_0242ac120035 th {\n",
       "          border: 1px solid grey;\n",
       "          text-align: center;\n",
       "    }    #T_d7a7e852_6684_11ef_9228_0242ac120035 tbody td {\n",
       "          border: 1px solid grey;\n",
       "          text-align: center;\n",
       "    }    #T_d7a7e852_6684_11ef_9228_0242ac120035row0_col0 {\n",
       "            background-color :  grey;\n",
       "        }    #T_d7a7e852_6684_11ef_9228_0242ac120035row1_col1 {\n",
       "            background-color :  grey;\n",
       "        }    #T_d7a7e852_6684_11ef_9228_0242ac120035row1_col2 {\n",
       "            background-color :  grey;\n",
       "        }    #T_d7a7e852_6684_11ef_9228_0242ac120035row1_col3 {\n",
       "            background-color :  grey;\n",
       "        }    #T_d7a7e852_6684_11ef_9228_0242ac120035row1_col4 {\n",
       "            background-color :  grey;\n",
       "        }    #T_d7a7e852_6684_11ef_9228_0242ac120035row1_col5 {\n",
       "            background-color :  grey;\n",
       "        }    #T_d7a7e852_6684_11ef_9228_0242ac120035row1_col6 {\n",
       "            background-color :  grey;\n",
       "        }    #T_d7a7e852_6684_11ef_9228_0242ac120035row1_col7 {\n",
       "            background-color :  grey;\n",
       "        }    #T_d7a7e852_6684_11ef_9228_0242ac120035row1_col8 {\n",
       "            background-color :  grey;\n",
       "        }    #T_d7a7e852_6684_11ef_9228_0242ac120035row1_col9 {\n",
       "            background-color :  grey;\n",
       "        }    #T_d7a7e852_6684_11ef_9228_0242ac120035row1_col10 {\n",
       "            background-color :  grey;\n",
       "        }    #T_d7a7e852_6684_11ef_9228_0242ac120035row1_col11 {\n",
       "            background-color :  grey;\n",
       "        }    #T_d7a7e852_6684_11ef_9228_0242ac120035row2_col0 {\n",
       "            background-color :  grey;\n",
       "        }    #T_d7a7e852_6684_11ef_9228_0242ac120035row3_col1 {\n",
       "            background-color :  grey;\n",
       "        }    #T_d7a7e852_6684_11ef_9228_0242ac120035row3_col2 {\n",
       "            background-color :  grey;\n",
       "        }    #T_d7a7e852_6684_11ef_9228_0242ac120035row3_col3 {\n",
       "            background-color :  grey;\n",
       "        }    #T_d7a7e852_6684_11ef_9228_0242ac120035row3_col4 {\n",
       "            background-color :  grey;\n",
       "        }    #T_d7a7e852_6684_11ef_9228_0242ac120035row3_col5 {\n",
       "            background-color :  grey;\n",
       "        }    #T_d7a7e852_6684_11ef_9228_0242ac120035row3_col6 {\n",
       "            background-color :  grey;\n",
       "        }    #T_d7a7e852_6684_11ef_9228_0242ac120035row3_col7 {\n",
       "            background-color :  grey;\n",
       "        }    #T_d7a7e852_6684_11ef_9228_0242ac120035row3_col8 {\n",
       "            background-color :  grey;\n",
       "        }    #T_d7a7e852_6684_11ef_9228_0242ac120035row3_col9 {\n",
       "            background-color :  grey;\n",
       "        }    #T_d7a7e852_6684_11ef_9228_0242ac120035row3_col10 {\n",
       "            background-color :  grey;\n",
       "        }    #T_d7a7e852_6684_11ef_9228_0242ac120035row3_col11 {\n",
       "            background-color :  grey;\n",
       "        }    #T_d7a7e852_6684_11ef_9228_0242ac120035row4_col1 {\n",
       "            background-color :  grey;\n",
       "        }    #T_d7a7e852_6684_11ef_9228_0242ac120035row4_col2 {\n",
       "            background-color :  grey;\n",
       "        }    #T_d7a7e852_6684_11ef_9228_0242ac120035row4_col3 {\n",
       "            background-color :  grey;\n",
       "        }    #T_d7a7e852_6684_11ef_9228_0242ac120035row4_col4 {\n",
       "            background-color :  grey;\n",
       "        }    #T_d7a7e852_6684_11ef_9228_0242ac120035row4_col5 {\n",
       "            background-color :  grey;\n",
       "        }    #T_d7a7e852_6684_11ef_9228_0242ac120035row4_col6 {\n",
       "            background-color :  grey;\n",
       "        }    #T_d7a7e852_6684_11ef_9228_0242ac120035row4_col7 {\n",
       "            background-color :  grey;\n",
       "        }    #T_d7a7e852_6684_11ef_9228_0242ac120035row4_col8 {\n",
       "            background-color :  grey;\n",
       "        }    #T_d7a7e852_6684_11ef_9228_0242ac120035row4_col9 {\n",
       "            background-color :  grey;\n",
       "        }    #T_d7a7e852_6684_11ef_9228_0242ac120035row4_col10 {\n",
       "            background-color :  grey;\n",
       "        }    #T_d7a7e852_6684_11ef_9228_0242ac120035row4_col11 {\n",
       "            background-color :  grey;\n",
       "        }</style><table id=\"T_d7a7e852_6684_11ef_9228_0242ac120035\" ><thead>    <tr>        <th class=\"blank level0\" ></th>        <th class=\"col_heading level0 col0\" ></th>        <th class=\"col_heading level0 col1\" colspan=8>State Vector</th>        <th class=\"col_heading level0 col9\" colspan=3>Derived from the State Vector (the closer to zero, the better)</th>    </tr>    <tr>        <th class=\"blank level1\" ></th>        <th class=\"col_heading level1 col0\" ></th>        <th class=\"col_heading level1 col1\" colspan=2>Coordinate</th>        <th class=\"col_heading level1 col3\" colspan=2>Velocity</th>        <th class=\"col_heading level1 col5\" colspan=2>Tilting</th>        <th class=\"col_heading level1 col7\" colspan=2>Ground contact</th>        <th class=\"col_heading level1 col9\" >Distance from landing pad</th>        <th class=\"col_heading level1 col10\" >Velocity</th>        <th class=\"col_heading level1 col11\" >Tilting Angle (absolute value)</th>    </tr>    <tr>        <th class=\"blank level2\" ></th>        <th class=\"col_heading level2 col0\" ></th>        <th class=\"col_heading level2 col1\" >X (Horizontal)</th>        <th class=\"col_heading level2 col2\" >Y (Vertical)</th>        <th class=\"col_heading level2 col3\" >X (Horizontal)</th>        <th class=\"col_heading level2 col4\" >Y (Vertical)</th>        <th class=\"col_heading level2 col5\" >Angle</th>        <th class=\"col_heading level2 col6\" >Angular Velocity</th>        <th class=\"col_heading level2 col7\" >Left Leg?</th>        <th class=\"col_heading level2 col8\" >Right Leg?</th>        <th class=\"col_heading level2 col9\" ></th>        <th class=\"col_heading level2 col10\" ></th>        <th class=\"col_heading level2 col11\" ></th>    </tr></thead><tbody>\n",
       "                <tr>\n",
       "                        <th id=\"T_d7a7e852_6684_11ef_9228_0242ac120035level0_row0\" class=\"row_heading level0 row0\" >Current State</th>\n",
       "                        <td id=\"T_d7a7e852_6684_11ef_9228_0242ac120035row0_col0\" class=\"data row0 col0\" ></td>\n",
       "                        <td id=\"T_d7a7e852_6684_11ef_9228_0242ac120035row0_col1\" class=\"data row0 col1\" >0.001919</td>\n",
       "                        <td id=\"T_d7a7e852_6684_11ef_9228_0242ac120035row0_col2\" class=\"data row0 col2\" >1.422301</td>\n",
       "                        <td id=\"T_d7a7e852_6684_11ef_9228_0242ac120035row0_col3\" class=\"data row0 col3\" >0.194400</td>\n",
       "                        <td id=\"T_d7a7e852_6684_11ef_9228_0242ac120035row0_col4\" class=\"data row0 col4\" >0.505814</td>\n",
       "                        <td id=\"T_d7a7e852_6684_11ef_9228_0242ac120035row0_col5\" class=\"data row0 col5\" >-0.002217</td>\n",
       "                        <td id=\"T_d7a7e852_6684_11ef_9228_0242ac120035row0_col6\" class=\"data row0 col6\" >-0.044034</td>\n",
       "                        <td id=\"T_d7a7e852_6684_11ef_9228_0242ac120035row0_col7\" class=\"data row0 col7\" >False</td>\n",
       "                        <td id=\"T_d7a7e852_6684_11ef_9228_0242ac120035row0_col8\" class=\"data row0 col8\" >False</td>\n",
       "                        <td id=\"T_d7a7e852_6684_11ef_9228_0242ac120035row0_col9\" class=\"data row0 col9\" >1.422302</td>\n",
       "                        <td id=\"T_d7a7e852_6684_11ef_9228_0242ac120035row0_col10\" class=\"data row0 col10\" >0.541885</td>\n",
       "                        <td id=\"T_d7a7e852_6684_11ef_9228_0242ac120035row0_col11\" class=\"data row0 col11\" >0.002217</td>\n",
       "            </tr>\n",
       "            <tr>\n",
       "                        <th id=\"T_d7a7e852_6684_11ef_9228_0242ac120035level0_row1\" class=\"row_heading level0 row1\" >Action</th>\n",
       "                        <td id=\"T_d7a7e852_6684_11ef_9228_0242ac120035row1_col0\" class=\"data row1 col0\" >Do nothing</td>\n",
       "                        <td id=\"T_d7a7e852_6684_11ef_9228_0242ac120035row1_col1\" class=\"data row1 col1\" ></td>\n",
       "                        <td id=\"T_d7a7e852_6684_11ef_9228_0242ac120035row1_col2\" class=\"data row1 col2\" ></td>\n",
       "                        <td id=\"T_d7a7e852_6684_11ef_9228_0242ac120035row1_col3\" class=\"data row1 col3\" ></td>\n",
       "                        <td id=\"T_d7a7e852_6684_11ef_9228_0242ac120035row1_col4\" class=\"data row1 col4\" ></td>\n",
       "                        <td id=\"T_d7a7e852_6684_11ef_9228_0242ac120035row1_col5\" class=\"data row1 col5\" ></td>\n",
       "                        <td id=\"T_d7a7e852_6684_11ef_9228_0242ac120035row1_col6\" class=\"data row1 col6\" ></td>\n",
       "                        <td id=\"T_d7a7e852_6684_11ef_9228_0242ac120035row1_col7\" class=\"data row1 col7\" ></td>\n",
       "                        <td id=\"T_d7a7e852_6684_11ef_9228_0242ac120035row1_col8\" class=\"data row1 col8\" ></td>\n",
       "                        <td id=\"T_d7a7e852_6684_11ef_9228_0242ac120035row1_col9\" class=\"data row1 col9\" ></td>\n",
       "                        <td id=\"T_d7a7e852_6684_11ef_9228_0242ac120035row1_col10\" class=\"data row1 col10\" ></td>\n",
       "                        <td id=\"T_d7a7e852_6684_11ef_9228_0242ac120035row1_col11\" class=\"data row1 col11\" ></td>\n",
       "            </tr>\n",
       "            <tr>\n",
       "                        <th id=\"T_d7a7e852_6684_11ef_9228_0242ac120035level0_row2\" class=\"row_heading level0 row2\" >Next State</th>\n",
       "                        <td id=\"T_d7a7e852_6684_11ef_9228_0242ac120035row2_col0\" class=\"data row2 col0\" ></td>\n",
       "                        <td id=\"T_d7a7e852_6684_11ef_9228_0242ac120035row2_col1\" class=\"data row2 col1\" >0.003839</td>\n",
       "                        <td id=\"T_d7a7e852_6684_11ef_9228_0242ac120035row2_col2\" class=\"data row2 col2\" >1.433103</td>\n",
       "                        <td id=\"T_d7a7e852_6684_11ef_9228_0242ac120035row2_col3\" class=\"data row2 col3\" >0.194137</td>\n",
       "                        <td id=\"T_d7a7e852_6684_11ef_9228_0242ac120035row2_col4\" class=\"data row2 col4\" >0.480094</td>\n",
       "                        <td id=\"T_d7a7e852_6684_11ef_9228_0242ac120035row2_col5\" class=\"data row2 col5\" >-0.004393</td>\n",
       "                        <td id=\"T_d7a7e852_6684_11ef_9228_0242ac120035row2_col6\" class=\"data row2 col6\" >-0.043519</td>\n",
       "                        <td id=\"T_d7a7e852_6684_11ef_9228_0242ac120035row2_col7\" class=\"data row2 col7\" >False</td>\n",
       "                        <td id=\"T_d7a7e852_6684_11ef_9228_0242ac120035row2_col8\" class=\"data row2 col8\" >False</td>\n",
       "                        <td id=\"T_d7a7e852_6684_11ef_9228_0242ac120035row2_col9\" class=\"data row2 col9\" >1.433108</td>\n",
       "                        <td id=\"T_d7a7e852_6684_11ef_9228_0242ac120035row2_col10\" class=\"data row2 col10\" >0.517860</td>\n",
       "                        <td id=\"T_d7a7e852_6684_11ef_9228_0242ac120035row2_col11\" class=\"data row2 col11\" >0.004393</td>\n",
       "            </tr>\n",
       "            <tr>\n",
       "                        <th id=\"T_d7a7e852_6684_11ef_9228_0242ac120035level0_row3\" class=\"row_heading level0 row3\" >Reward</th>\n",
       "                        <td id=\"T_d7a7e852_6684_11ef_9228_0242ac120035row3_col0\" class=\"data row3 col0\" >1.104326</td>\n",
       "                        <td id=\"T_d7a7e852_6684_11ef_9228_0242ac120035row3_col1\" class=\"data row3 col1\" ></td>\n",
       "                        <td id=\"T_d7a7e852_6684_11ef_9228_0242ac120035row3_col2\" class=\"data row3 col2\" ></td>\n",
       "                        <td id=\"T_d7a7e852_6684_11ef_9228_0242ac120035row3_col3\" class=\"data row3 col3\" ></td>\n",
       "                        <td id=\"T_d7a7e852_6684_11ef_9228_0242ac120035row3_col4\" class=\"data row3 col4\" ></td>\n",
       "                        <td id=\"T_d7a7e852_6684_11ef_9228_0242ac120035row3_col5\" class=\"data row3 col5\" ></td>\n",
       "                        <td id=\"T_d7a7e852_6684_11ef_9228_0242ac120035row3_col6\" class=\"data row3 col6\" ></td>\n",
       "                        <td id=\"T_d7a7e852_6684_11ef_9228_0242ac120035row3_col7\" class=\"data row3 col7\" ></td>\n",
       "                        <td id=\"T_d7a7e852_6684_11ef_9228_0242ac120035row3_col8\" class=\"data row3 col8\" ></td>\n",
       "                        <td id=\"T_d7a7e852_6684_11ef_9228_0242ac120035row3_col9\" class=\"data row3 col9\" ></td>\n",
       "                        <td id=\"T_d7a7e852_6684_11ef_9228_0242ac120035row3_col10\" class=\"data row3 col10\" ></td>\n",
       "                        <td id=\"T_d7a7e852_6684_11ef_9228_0242ac120035row3_col11\" class=\"data row3 col11\" ></td>\n",
       "            </tr>\n",
       "            <tr>\n",
       "                        <th id=\"T_d7a7e852_6684_11ef_9228_0242ac120035level0_row4\" class=\"row_heading level0 row4\" >Episode Terminated</th>\n",
       "                        <td id=\"T_d7a7e852_6684_11ef_9228_0242ac120035row4_col0\" class=\"data row4 col0\" >False</td>\n",
       "                        <td id=\"T_d7a7e852_6684_11ef_9228_0242ac120035row4_col1\" class=\"data row4 col1\" ></td>\n",
       "                        <td id=\"T_d7a7e852_6684_11ef_9228_0242ac120035row4_col2\" class=\"data row4 col2\" ></td>\n",
       "                        <td id=\"T_d7a7e852_6684_11ef_9228_0242ac120035row4_col3\" class=\"data row4 col3\" ></td>\n",
       "                        <td id=\"T_d7a7e852_6684_11ef_9228_0242ac120035row4_col4\" class=\"data row4 col4\" ></td>\n",
       "                        <td id=\"T_d7a7e852_6684_11ef_9228_0242ac120035row4_col5\" class=\"data row4 col5\" ></td>\n",
       "                        <td id=\"T_d7a7e852_6684_11ef_9228_0242ac120035row4_col6\" class=\"data row4 col6\" ></td>\n",
       "                        <td id=\"T_d7a7e852_6684_11ef_9228_0242ac120035row4_col7\" class=\"data row4 col7\" ></td>\n",
       "                        <td id=\"T_d7a7e852_6684_11ef_9228_0242ac120035row4_col8\" class=\"data row4 col8\" ></td>\n",
       "                        <td id=\"T_d7a7e852_6684_11ef_9228_0242ac120035row4_col9\" class=\"data row4 col9\" ></td>\n",
       "                        <td id=\"T_d7a7e852_6684_11ef_9228_0242ac120035row4_col10\" class=\"data row4 col10\" ></td>\n",
       "                        <td id=\"T_d7a7e852_6684_11ef_9228_0242ac120035row4_col11\" class=\"data row4 col11\" ></td>\n",
       "            </tr>\n",
       "    </tbody></table>"
      ],
      "text/plain": [
       "<pandas.io.formats.style.Styler at 0x7ac36aa2b8d0>"
      ]
     },
     "metadata": {},
     "output_type": "display_data"
    }
   ],
   "source": [
    "# Select an action\n",
    "action = 0\n",
    "\n",
    "# Run a single time step of the environment's dynamics with the given action.\n",
    "next_state, reward, done, _ = env.step(action)\n",
    "\n",
    "# Display table with values.\n",
    "utils.display_table(current_state, action, next_state, reward, done)\n",
    "\n",
    "# Replace the `current_state` with the state after the action is taken\n",
    "current_state = next_state"
   ]
  },
  {
   "cell_type": "markdown",
   "metadata": {},
   "source": [
    "In practice, when we train the agent we use a loop to allow the agent to take many consecutive actions during an episode."
   ]
  },
  {
   "cell_type": "markdown",
   "metadata": {},
   "source": [
    "<a name=\"6\"></a>\n",
    "## 6 - Deep Q-Learning\n",
    "\n",
    "In cases where both the state and action space are discrete we can estimate the action-value function iteratively by using the Bellman equation:\n",
    "\n",
    "$$\n",
    "Q_{i+1}(s,a) = R + \\gamma \\max_{a'}Q_i(s',a')\n",
    "$$\n",
    "\n",
    "This iterative method converges to the optimal action-value function $Q^*(s,a)$ as $i\\to\\infty$. This means that the agent just needs to gradually explore the state-action space and keep updating the estimate of $Q(s,a)$ until it converges to the optimal action-value function $Q^*(s,a)$. However, in cases where the state space is continuous it becomes practically impossible to explore the entire state-action space. Consequently, this also makes it practically impossible to gradually estimate $Q(s,a)$ until it converges to $Q^*(s,a)$.\n",
    "\n",
    "In the Deep $Q$-Learning, we solve this problem by using a neural network to estimate the action-value function $Q(s,a)\\approx Q^*(s,a)$. We call this neural network a $Q$-Network and it can be trained by adjusting its weights at each iteration to minimize the mean-squared error in the Bellman equation.\n",
    "\n",
    "Unfortunately, using neural networks in reinforcement learning to estimate action-value functions has proven to be highly unstable. Luckily, there's a couple of techniques that can be employed to avoid instabilities. These techniques consist of using a ***Target Network*** and ***Experience Replay***. We will explore these two techniques in the following sections."
   ]
  },
  {
   "cell_type": "markdown",
   "metadata": {},
   "source": [
    "<a name=\"6.1\"></a>\n",
    "### 6.1 Target Network\n",
    "\n",
    "We can train the $Q$-Network by adjusting it's weights at each iteration to minimize the mean-squared error in the Bellman equation, where the target values are given by:\n",
    "\n",
    "$$\n",
    "y = R + \\gamma \\max_{a'}Q(s',a';w)\n",
    "$$\n",
    "\n",
    "where $w$ are the weights of the $Q$-Network. This means that we are adjusting the weights $w$ at each iteration to minimize the following error:\n",
    "\n",
    "$$\n",
    "\\overbrace{\\underbrace{R + \\gamma \\max_{a'}Q(s',a'; w)}_{\\rm {y~target}} - Q(s,a;w)}^{\\rm {Error}}\n",
    "$$\n",
    "\n",
    "Notice that this forms a problem because the $y$ target is changing on every iteration. Having a constantly moving target can lead to oscillations and instabilities. To avoid this, we can create\n",
    "a separate neural network for generating the $y$ targets. We call this separate neural network the **target $\\hat Q$-Network** and it will have the same architecture as the original $Q$-Network. By using the target $\\hat Q$-Network, the above error becomes:\n",
    "\n",
    "$$\n",
    "\\overbrace{\\underbrace{R + \\gamma \\max_{a'}\\hat{Q}(s',a'; w^-)}_{\\rm {y~target}} - Q(s,a;w)}^{\\rm {Error}}\n",
    "$$\n",
    "\n",
    "where $w^-$ and $w$ are the weights of the target $\\hat Q$-Network and $Q$-Network, respectively.\n",
    "\n",
    "In practice, we will use the following algorithm: every $C$ time steps we will use the $\\hat Q$-Network to generate the $y$ targets and update the weights of the target $\\hat Q$-Network using the weights of the $Q$-Network. We will update the weights $w^-$ of the the target $\\hat Q$-Network using a **soft update**. This means that we will update the weights $w^-$ using the following rule:\n",
    " \n",
    "$$\n",
    "w^-\\leftarrow \\tau w + (1 - \\tau) w^-\n",
    "$$\n",
    "\n",
    "where $\\tau\\ll 1$. By using the soft update, we are ensuring that the target values, $y$, change slowly, which greatly improves the stability of our learning algorithm."
   ]
  },
  {
   "cell_type": "markdown",
   "metadata": {},
   "source": [
    "<a name=\"ex01\"></a>\n",
    "### Exercise 1\n",
    "\n",
    "In this exercise you will create the $Q$ and target $\\hat Q$ networks and set the optimizer. Remember that the Deep $Q$-Network (DQN) is a neural network that approximates the action-value function $Q(s,a)\\approx Q^*(s,a)$. It does this by learning how to map states to $Q$ values.\n",
    "\n",
    "To solve the Lunar Lander environment, we are going to employ a DQN with the following architecture:\n",
    "\n",
    "* An `Input` layer that takes `state_size` as input.\n",
    "\n",
    "* A `Dense` layer with `64` units and a `relu` activation function.\n",
    "\n",
    "* A `Dense` layer with `64` units and a `relu` activation function.\n",
    "\n",
    "* A `Dense` layer with `num_actions` units and a `linear` activation function. This will be the output layer of our network.\n",
    "\n",
    "\n",
    "In the cell below you should create the $Q$-Network and the target $\\hat Q$-Network using the model architecture described above. Remember that both the $Q$-Network and the target $\\hat Q$-Network have the same architecture.\n",
    "\n",
    "Lastly, you should set `Adam` as the optimizer with a learning rate equal to `ALPHA`. Recall that `ALPHA` was defined in the [Hyperparameters](#2) section. We should note that for this exercise you should use the already imported packages:\n",
    "```python\n",
    "from tensorflow.keras.layers import Dense, Input\n",
    "from tensorflow.keras.optimizers import Adam\n",
    "```"
   ]
  },
  {
   "cell_type": "code",
   "execution_count": 9,
   "metadata": {
    "deletable": false
   },
   "outputs": [],
   "source": [
    "# UNQ_C1\n",
    "# GRADED CELL\n",
    "\n",
    "# Create the Q-Network\n",
    "q_network = Sequential([\n",
    "    ### START CODE HERE ### \n",
    "    Input(state_size),\n",
    "    Dense(units = 64, activation = 'relu'),\n",
    "    Dense(units = 64, activation = 'relu'),\n",
    "    Dense(units = num_actions, activation = 'linear')\n",
    "    ### END CODE HERE ### \n",
    "    ])\n",
    "\n",
    "# Create the target Q^-Network\n",
    "target_q_network = Sequential([\n",
    "    ### START CODE HERE ### \n",
    "    Input(state_size),\n",
    "    Dense(units = 64, activation = 'relu'),\n",
    "    Dense(units = 64, activation = 'relu'),\n",
    "    Dense(units = num_actions, activation = 'linear')\n",
    "    ### END CODE HERE ###\n",
    "    ])\n",
    "\n",
    "### START CODE HERE ### \n",
    "optimizer = Adam(learning_rate = ALPHA)\n",
    "### END CODE HERE ###"
   ]
  },
  {
   "cell_type": "code",
   "execution_count": 10,
   "metadata": {
    "deletable": false,
    "editable": false
   },
   "outputs": [
    {
     "name": "stdout",
     "output_type": "stream",
     "text": [
      "\u001b[92mAll tests passed!\n",
      "\u001b[92mAll tests passed!\n",
      "\u001b[92mAll tests passed!\n"
     ]
    }
   ],
   "source": [
    "# UNIT TEST\n",
    "from public_tests import *\n",
    "\n",
    "test_network(q_network)\n",
    "test_network(target_q_network)\n",
    "test_optimizer(optimizer, ALPHA) "
   ]
  },
  {
   "cell_type": "markdown",
   "metadata": {},
   "source": [
    "<details>\n",
    "  <summary><font size=\"3\" color=\"darkgreen\"><b>Click for hints</b></font></summary>\n",
    "    \n",
    "```python\n",
    "# Create the Q-Network\n",
    "q_network = Sequential([\n",
    "    Input(shape=state_size),                      \n",
    "    Dense(units=64, activation='relu'),            \n",
    "    Dense(units=64, activation='relu'),            \n",
    "    Dense(units=num_actions, activation='linear'),\n",
    "    ])\n",
    "\n",
    "# Create the target Q^-Network\n",
    "target_q_network = Sequential([\n",
    "    Input(shape=state_size),                       \n",
    "    Dense(units=64, activation='relu'),            \n",
    "    Dense(units=64, activation='relu'),            \n",
    "    Dense(units=num_actions, activation='linear'), \n",
    "    ])\n",
    "\n",
    "optimizer = Adam(learning_rate=ALPHA)                                  \n",
    "``` "
   ]
  },
  {
   "cell_type": "markdown",
   "metadata": {},
   "source": [
    "<a name=\"6.2\"></a>\n",
    "### 6.2 Experience Replay\n",
    "\n",
    "When an agent interacts with the environment, the states, actions, and rewards the agent experiences are sequential by nature. If the agent tries to learn from these consecutive experiences it can run into problems due to the strong correlations between them. To avoid this, we employ a technique known as **Experience Replay** to generate uncorrelated experiences for training our agent. Experience replay consists of storing the agent's experiences (i.e the states, actions, and rewards the agent receives) in a memory buffer and then sampling a random mini-batch of experiences from the buffer to do the learning. The experience tuples $(S_t, A_t, R_t, S_{t+1})$ will be added to the memory buffer at each time step as the agent interacts with the environment.\n",
    "\n",
    "For convenience, we will store the experiences as named tuples."
   ]
  },
  {
   "cell_type": "code",
   "execution_count": 11,
   "metadata": {
    "deletable": false,
    "editable": false
   },
   "outputs": [],
   "source": [
    "# Store experiences as named tuples\n",
    "experience = namedtuple(\"Experience\", field_names=[\"state\", \"action\", \"reward\", \"next_state\", \"done\"])"
   ]
  },
  {
   "cell_type": "markdown",
   "metadata": {},
   "source": [
    "By using experience replay we avoid problematic correlations, oscillations and instabilities. In addition, experience replay also allows the agent to potentially use the same experience in multiple weight updates, which increases data efficiency."
   ]
  },
  {
   "cell_type": "markdown",
   "metadata": {},
   "source": [
    "<a name=\"7\"></a>\n",
    "## 7 - Deep Q-Learning Algorithm with Experience Replay\n",
    "\n",
    "Now that we know all the techniques that we are going to use, we can put them together to arrive at the Deep Q-Learning Algorithm With Experience Replay.\n",
    "<br>\n",
    "<br>\n",
    "<figure>\n",
    "  <img src = \"images/deep_q_algorithm.png\" width = 90% style = \"border: thin silver solid; padding: 0px\">\n",
    "      <figcaption style = \"text-align: center; font-style: italic\">Fig 3. Deep Q-Learning with Experience Replay.</figcaption>\n",
    "</figure>"
   ]
  },
  {
   "cell_type": "markdown",
   "metadata": {},
   "source": [
    "<a name=\"ex02\"></a>\n",
    "### Exercise 2\n",
    "\n",
    "In this exercise you will implement line ***12*** of the algorithm outlined in *Fig 3* above and you will also compute the loss between the $y$ targets and the $Q(s,a)$ values. In the cell below, complete the `compute_loss` function by setting the $y$ targets equal to:\n",
    "\n",
    "$$\n",
    "\\begin{equation}\n",
    "    y_j =\n",
    "    \\begin{cases}\n",
    "      R_j & \\text{if episode terminates at step  } j+1\\\\\n",
    "      R_j + \\gamma \\max_{a'}\\hat{Q}(s_{j+1},a') & \\text{otherwise}\\\\\n",
    "    \\end{cases}       \n",
    "\\end{equation}\n",
    "$$\n",
    "\n",
    "Here are a couple of things to note:\n",
    "\n",
    "* The `compute_loss` function takes in a mini-batch of experience tuples. This mini-batch of experience tuples is unpacked to extract the `states`, `actions`, `rewards`, `next_states`, and `done_vals`. You should keep in mind that these variables are *TensorFlow Tensors* whose size will depend on the mini-batch size. For example, if the mini-batch size is `64` then both `rewards` and `done_vals` will be TensorFlow Tensors with `64` elements.\n",
    "\n",
    "\n",
    "* Using `if/else` statements to set the $y$ targets will not work when the variables are tensors with many elements. However, notice that you can use the `done_vals` to implement the above in a single line of code. To do this, recall that the `done` variable is a Boolean variable that takes the value `True` when an episode terminates at step $j+1$ and it is `False` otherwise. Taking into account that a Boolean value of `True` has the numerical value of `1` and a Boolean value of `False` has the numerical value of `0`, you can use the factor `(1 - done_vals)` to implement the above in a single line of code. Here's a hint: notice that `(1 - done_vals)` has a value of `0` when `done_vals` is `True` and a value of `1` when `done_vals` is `False`. \n",
    "\n",
    "Lastly, compute the loss by calculating the Mean-Squared Error (`MSE`) between the `y_targets` and the `q_values`. To calculate the mean-squared error you should use the already imported package `MSE`:\n",
    "```python\n",
    "from tensorflow.keras.losses import MSE\n",
    "```"
   ]
  },
  {
   "cell_type": "code",
   "execution_count": 12,
   "metadata": {
    "deletable": false
   },
   "outputs": [],
   "source": [
    "# UNQ_C2\n",
    "# GRADED FUNCTION: calculate_loss\n",
    "\n",
    "def compute_loss(experiences, gamma, q_network, target_q_network):\n",
    "    \"\"\" \n",
    "    Calculates the loss.\n",
    "    \n",
    "    Args:\n",
    "      experiences: (tuple) tuple of [\"state\", \"action\", \"reward\", \"next_state\", \"done\"] namedtuples\n",
    "      gamma: (float) The discount factor.\n",
    "      q_network: (tf.keras.Sequential) Keras model for predicting the q_values\n",
    "      target_q_network: (tf.keras.Sequential) Keras model for predicting the targets\n",
    "          \n",
    "    Returns:\n",
    "      loss: (TensorFlow Tensor(shape=(0,), dtype=int32)) the Mean-Squared Error between\n",
    "            the y targets and the Q(s,a) values.\n",
    "    \"\"\"\n",
    "\n",
    "    # Unpack the mini-batch of experience tuples\n",
    "    states, actions, rewards, next_states, done_vals = experiences\n",
    "    \n",
    "    # Compute max Q^(s,a)\n",
    "    max_qsa = tf.reduce_max(target_q_network(next_states), axis=-1)\n",
    "    \n",
    "    # Set y = R if episode terminates, otherwise set y = R + γ max Q^(s,a).\n",
    "    ### START CODE HERE ### \n",
    "    y_targets = (done_vals) * rewards + (1 - done_vals) * (rewards + gamma * max_qsa)\n",
    "    ### END CODE HERE ###\n",
    "    \n",
    "    # Get the q_values and reshape to match y_targets\n",
    "    q_values = q_network(states)\n",
    "    q_values = tf.gather_nd(q_values, tf.stack([tf.range(q_values.shape[0]),\n",
    "                                                tf.cast(actions, tf.int32)], axis=1))\n",
    "        \n",
    "    # Compute the loss\n",
    "    ### START CODE HERE ### \n",
    "    loss = MSE(y_targets, q_values)\n",
    "    ### END CODE HERE ### \n",
    "    \n",
    "    return loss"
   ]
  },
  {
   "cell_type": "code",
   "execution_count": 13,
   "metadata": {
    "deletable": false,
    "editable": false
   },
   "outputs": [
    {
     "name": "stdout",
     "output_type": "stream",
     "text": [
      "\u001b[92mAll tests passed!\n"
     ]
    }
   ],
   "source": [
    "# UNIT TEST    \n",
    "test_compute_loss(compute_loss)"
   ]
  },
  {
   "cell_type": "markdown",
   "metadata": {},
   "source": [
    "<details>\n",
    "  <summary><font size=\"3\" color=\"darkgreen\"><b>Click for hints</b></font></summary>\n",
    "    \n",
    "```python\n",
    "def compute_loss(experiences, gamma, q_network, target_q_network):\n",
    "    \"\"\" \n",
    "    Calculates the loss.\n",
    "    \n",
    "    Args:\n",
    "      experiences: (tuple) tuple of [\"state\", \"action\", \"reward\", \"next_state\", \"done\"] namedtuples\n",
    "      gamma: (float) The discount factor.\n",
    "      q_network: (tf.keras.Sequential) Keras model for predicting the q_values\n",
    "      target_q_network: (tf.keras.Sequential) Keras model for predicting the targets\n",
    "          \n",
    "    Returns:\n",
    "      loss: (TensorFlow Tensor(shape=(0,), dtype=int32)) the Mean-Squared Error between\n",
    "            the y targets and the Q(s,a) values.\n",
    "    \"\"\"\n",
    "\n",
    "    \n",
    "    # Unpack the mini-batch of experience tuples\n",
    "    states, actions, rewards, next_states, done_vals = experiences\n",
    "    \n",
    "    # Compute max Q^(s,a)\n",
    "    max_qsa = tf.reduce_max(target_q_network(next_states), axis=-1)\n",
    "    \n",
    "    # Set y = R if episode terminates, otherwise set y = R + γ max Q^(s,a).\n",
    "    y_targets = rewards + (gamma * max_qsa * (1 - done_vals))\n",
    "    \n",
    "    # Get the q_values\n",
    "    q_values = q_network(states)\n",
    "    q_values = tf.gather_nd(q_values, tf.stack([tf.range(q_values.shape[0]),\n",
    "                                                tf.cast(actions, tf.int32)], axis=1))\n",
    "    \n",
    "    # Calculate the loss\n",
    "    loss = MSE(y_targets, q_values)\n",
    "    \n",
    "    return loss\n",
    "\n",
    "``` \n",
    "    "
   ]
  },
  {
   "cell_type": "markdown",
   "metadata": {},
   "source": [
    "<a name=\"8\"></a>\n",
    "## 8 - Update the Network Weights\n",
    "\n",
    "We will use the `agent_learn` function below to implement lines ***12 -14*** of the algorithm outlined in [Fig 3](#7). The `agent_learn` function will update the weights of the $Q$ and target $\\hat Q$ networks using a custom training loop. Because we are using a custom training loop we need to retrieve the gradients via a `tf.GradientTape` instance, and then call `optimizer.apply_gradients()` to update the weights of our $Q$-Network. Note that we are also using the `@tf.function` decorator to increase performance. Without this decorator our training will take twice as long. If you would like to know more about how to increase performance with `@tf.function` take a look at the [TensorFlow documentation](https://www.tensorflow.org/guide/function).\n",
    "\n",
    "The last line of this function updates the weights of the target $\\hat Q$-Network using a [soft update](#6.1). If you want to know how this is implemented in code we encourage you to take a look at the `utils.update_target_network` function in the `utils` module."
   ]
  },
  {
   "cell_type": "code",
   "execution_count": 14,
   "metadata": {
    "deletable": false,
    "editable": false
   },
   "outputs": [],
   "source": [
    "@tf.function\n",
    "def agent_learn(experiences, gamma):\n",
    "    \"\"\"\n",
    "    Updates the weights of the Q networks.\n",
    "    \n",
    "    Args:\n",
    "      experiences: (tuple) tuple of [\"state\", \"action\", \"reward\", \"next_state\", \"done\"] namedtuples\n",
    "      gamma: (float) The discount factor.\n",
    "    \n",
    "    \"\"\"\n",
    "    \n",
    "    # Calculate the loss\n",
    "    with tf.GradientTape() as tape:\n",
    "        loss = compute_loss(experiences, gamma, q_network, target_q_network)\n",
    "\n",
    "    # Get the gradients of the loss with respect to the weights.\n",
    "    gradients = tape.gradient(loss, q_network.trainable_variables)\n",
    "    \n",
    "    # Update the weights of the q_network.\n",
    "    optimizer.apply_gradients(zip(gradients, q_network.trainable_variables))\n",
    "\n",
    "    # update the weights of target q_network\n",
    "    utils.update_target_network(q_network, target_q_network)"
   ]
  },
  {
   "cell_type": "markdown",
   "metadata": {},
   "source": [
    "<a name=\"9\"></a>\n",
    "## 9 - Train the Agent\n",
    "\n",
    "We are now ready to train our agent to solve the Lunar Lander environment. In the cell below we will implement the algorithm in [Fig 3](#7) line by line (please note that we have included the same algorithm below for easy reference. This will prevent you from scrolling up and down the notebook):\n",
    "\n",
    "* **Line 1**: We initialize the `memory_buffer` with a capacity of $N =$ `MEMORY_SIZE`. Notice that we are using a `deque` as the data structure for our `memory_buffer`.\n",
    "\n",
    "\n",
    "* **Line 2**: We skip this line since we already initialized the `q_network` in [Exercise 1](#ex01).\n",
    "\n",
    "\n",
    "* **Line 3**: We initialize the `target_q_network` by setting its weights to be equal to those of the `q_network`.\n",
    "\n",
    "\n",
    "* **Line 4**: We start the outer loop. Notice that we have set $M =$ `num_episodes = 2000`. This number is reasonable because the agent should be able to solve the Lunar Lander environment in less than `2000` episodes using this notebook's default parameters.\n",
    "\n",
    "\n",
    "* **Line 5**: We use the `.reset()` method to reset the environment to the initial state and get the initial state.\n",
    "\n",
    "\n",
    "* **Line 6**: We start the inner loop. Notice that we have set $T =$ `max_num_timesteps = 1000`. This means that the episode will automatically terminate if the episode hasn't terminated after `1000` time steps.\n",
    "\n",
    "\n",
    "* **Line 7**: The agent observes the current `state` and chooses an `action` using an $\\epsilon$-greedy policy. Our agent starts out using a value of $\\epsilon =$ `epsilon = 1` which yields an $\\epsilon$-greedy policy that is equivalent to the equiprobable random policy. This means that at the beginning of our training, the agent is just going to take random actions regardless of the observed `state`. As training progresses we will decrease the value of $\\epsilon$ slowly towards a minimum value using a given $\\epsilon$-decay rate. We want this minimum value to be close to zero because a value of $\\epsilon = 0$ will yield an $\\epsilon$-greedy policy that is equivalent to the greedy policy. This means that towards the end of training, the agent will lean towards selecting the `action` that it believes (based on its past experiences) will maximize $Q(s,a)$. We will set the minimum $\\epsilon$ value to be `0.01` and not exactly 0 because we always want to keep a little bit of exploration during training. If you want to know how this is implemented in code we encourage you to take a look at the `utils.get_action` function in the `utils` module.\n",
    "\n",
    "\n",
    "* **Line 8**: We use the `.step()` method to take the given `action` in the environment and get the `reward` and the `next_state`. \n",
    "\n",
    "\n",
    "* **Line 9**: We store the `experience(state, action, reward, next_state, done)` tuple in our `memory_buffer`. Notice that we also store the `done` variable so that we can keep track of when an episode terminates. This allowed us to set the $y$ targets in [Exercise 2](#ex02).\n",
    "\n",
    "\n",
    "* **Line 10**: We check if the conditions are met to perform a learning update. We do this by using our custom `utils.check_update_conditions` function. This function checks if $C =$ `NUM_STEPS_FOR_UPDATE = 4` time steps have occured and if our `memory_buffer` has enough experience tuples to fill a mini-batch. For example, if the mini-batch size is `64`, then our `memory_buffer` should have more than `64` experience tuples in order to pass the latter condition. If the conditions are met, then the `utils.check_update_conditions` function will return a value of `True`, otherwise it will return a value of `False`.\n",
    "\n",
    "\n",
    "* **Lines 11 - 14**: If the `update` variable is `True` then we perform a learning update. The learning update consists of sampling a random mini-batch of experience tuples from our `memory_buffer`, setting the $y$ targets, performing gradient descent, and updating the weights of the networks. We will use the `agent_learn` function we defined in [Section 8](#8) to perform the latter 3.\n",
    "\n",
    "\n",
    "* **Line 15**: At the end of each iteration of the inner loop we set `next_state` as our new `state` so that the loop can start again from this new state. In addition, we check if the episode has reached a terminal state (i.e we check if `done = True`). If a terminal state has been reached, then we break out of the inner loop.\n",
    "\n",
    "\n",
    "* **Line 16**: At the end of each iteration of the outer loop we update the value of $\\epsilon$, and check if the environment has been solved. We consider that the environment has been solved if the agent receives an average of `200` points in the last `100` episodes. If the environment has not been solved we continue the outer loop and start a new episode.\n",
    "\n",
    "Finally, we wanted to note that we have included some extra variables to keep track of the total number of points the agent received in each episode. This will help us determine if the agent has solved the environment and it will also allow us to see how our agent performed during training. We also use the `time` module to measure how long the training takes. \n",
    "\n",
    "<br>\n",
    "<br>\n",
    "<figure>\n",
    "  <img src = \"images/deep_q_algorithm.png\" width = 90% style = \"border: thin silver solid; padding: 0px\">\n",
    "      <figcaption style = \"text-align: center; font-style: italic\">Fig 4. Deep Q-Learning with Experience Replay.</figcaption>\n",
    "</figure>\n",
    "<br>\n",
    "\n",
    "**Note:** With this notebook's default parameters, the following cell takes between 10 to 15 minutes to run. "
   ]
  },
  {
   "cell_type": "code",
   "execution_count": 15,
   "metadata": {
    "deletable": false,
    "editable": false
   },
   "outputs": [
    {
     "name": "stdout",
     "output_type": "stream",
     "text": [
      "Episode 100 | Total point average of the last 100 episodes: -150.85\n",
      "Episode 200 | Total point average of the last 100 episodes: -106.11\n",
      "Episode 300 | Total point average of the last 100 episodes: -77.256\n",
      "Episode 400 | Total point average of the last 100 episodes: -25.01\n",
      "Episode 500 | Total point average of the last 100 episodes: 159.91\n",
      "Episode 534 | Total point average of the last 100 episodes: 201.37\n",
      "\n",
      "Environment solved in 534 episodes!\n",
      "\n",
      "Total Runtime: 732.96 s (12.22 min)\n"
     ]
    }
   ],
   "source": [
    "start = time.time()\n",
    "\n",
    "num_episodes = 2000\n",
    "max_num_timesteps = 1000\n",
    "\n",
    "total_point_history = []\n",
    "\n",
    "num_p_av = 100    # number of total points to use for averaging\n",
    "epsilon = 1.0     # initial ε value for ε-greedy policy\n",
    "\n",
    "# Create a memory buffer D with capacity N\n",
    "memory_buffer = deque(maxlen=MEMORY_SIZE)\n",
    "\n",
    "# Set the target network weights equal to the Q-Network weights\n",
    "target_q_network.set_weights(q_network.get_weights())\n",
    "\n",
    "for i in range(num_episodes):\n",
    "    \n",
    "    # Reset the environment to the initial state and get the initial state\n",
    "    state = env.reset()\n",
    "    total_points = 0\n",
    "    \n",
    "    for t in range(max_num_timesteps):\n",
    "        \n",
    "        # From the current state S choose an action A using an ε-greedy policy\n",
    "        state_qn = np.expand_dims(state, axis=0)  # state needs to be the right shape for the q_network\n",
    "        q_values = q_network(state_qn)\n",
    "        action = utils.get_action(q_values, epsilon)\n",
    "        \n",
    "        # Take action A and receive reward R and the next state S'\n",
    "        next_state, reward, done, _ = env.step(action)\n",
    "        \n",
    "        # Store experience tuple (S,A,R,S') in the memory buffer.\n",
    "        # We store the done variable as well for convenience.\n",
    "        memory_buffer.append(experience(state, action, reward, next_state, done))\n",
    "        \n",
    "        # Only update the network every NUM_STEPS_FOR_UPDATE time steps.\n",
    "        update = utils.check_update_conditions(t, NUM_STEPS_FOR_UPDATE, memory_buffer)\n",
    "        \n",
    "        if update:\n",
    "            # Sample random mini-batch of experience tuples (S,A,R,S') from D\n",
    "            experiences = utils.get_experiences(memory_buffer)\n",
    "            \n",
    "            # Set the y targets, perform a gradient descent step,\n",
    "            # and update the network weights.\n",
    "            agent_learn(experiences, GAMMA)\n",
    "        \n",
    "        state = next_state.copy()\n",
    "        total_points += reward\n",
    "        \n",
    "        if done:\n",
    "            break\n",
    "            \n",
    "    total_point_history.append(total_points)\n",
    "    av_latest_points = np.mean(total_point_history[-num_p_av:])\n",
    "    \n",
    "    # Update the ε value\n",
    "    epsilon = utils.get_new_eps(epsilon)\n",
    "\n",
    "    print(f\"\\rEpisode {i+1} | Total point average of the last {num_p_av} episodes: {av_latest_points:.2f}\", end=\"\")\n",
    "\n",
    "    if (i+1) % num_p_av == 0:\n",
    "        print(f\"\\rEpisode {i+1} | Total point average of the last {num_p_av} episodes: {av_latest_points:.2f}\")\n",
    "\n",
    "    # We will consider that the environment is solved if we get an\n",
    "    # average of 200 points in the last 100 episodes.\n",
    "    if av_latest_points >= 200.0:\n",
    "        print(f\"\\n\\nEnvironment solved in {i+1} episodes!\")\n",
    "        q_network.save('lunar_lander_model.h5')\n",
    "        break\n",
    "        \n",
    "tot_time = time.time() - start\n",
    "\n",
    "print(f\"\\nTotal Runtime: {tot_time:.2f} s ({(tot_time/60):.2f} min)\")"
   ]
  },
  {
   "cell_type": "markdown",
   "metadata": {},
   "source": [
    "We can plot the total point history along with the moving average to see how our agent improved during training. If you want to know about the different plotting options available in the `utils.plot_history` function we encourage you to take a look at the `utils` module."
   ]
  },
  {
   "cell_type": "code",
   "execution_count": 16,
   "metadata": {
    "deletable": false,
    "editable": false,
    "id": "E_EUXxurfe8m",
    "scrolled": false
   },
   "outputs": [
    {
     "data": {
      "image/png": "[encoded data removed]",
      "text/plain": [
       "<Figure size 720x504 with 1 Axes>"
      ]
     },
     "metadata": {},
     "output_type": "display_data"
    }
   ],
   "source": [
    "# Plot the total point history along with the moving average\n",
    "utils.plot_history(total_point_history)"
   ]
  },
  {
   "cell_type": "markdown",
   "metadata": {
    "id": "c_xwgaX5MnYt"
   },
   "source": [
    "<a name=\"10\"></a>\n",
    "## 10 - See the Trained Agent In Action\n",
    "\n",
    "Now that we have trained our agent, we can see it in action. We will use the `utils.create_video` function to create a video of our agent interacting with the environment using the trained $Q$-Network. The `utils.create_video` function uses the `imageio` library to create the video. This library produces some warnings that can be distracting, so, to suppress these warnings we run the code below."
   ]
  },
  {
   "cell_type": "code",
   "execution_count": 17,
   "metadata": {
    "deletable": false,
    "editable": false
   },
   "outputs": [],
   "source": [
    "# Suppress warnings from imageio\n",
    "import logging\n",
    "logging.getLogger().setLevel(logging.ERROR)"
   ]
  },
  {
   "cell_type": "markdown",
   "metadata": {},
   "source": [
    "In the cell below we create a video of our agent interacting with the Lunar Lander environment using the trained `q_network`. The video is saved to the `videos` folder with the given `filename`. We use the `utils.embed_mp4` function to embed the video in the Jupyter Notebook so that we can see it here directly without having to download it.\n",
    "\n",
    "We should note that since the lunar lander starts with a random initial force applied to its center of mass, every time you run the cell below you will see a different video. If the agent was trained properly, it should be able to land the lunar lander in the landing pad every time, regardless of the initial force applied to its center of mass."
   ]
  },
  {
   "cell_type": "code",
   "execution_count": 24,
   "metadata": {
    "deletable": false,
    "editable": false,
    "id": "3Ttb_zLeJKiG"
   },
   "outputs": [
    {
     "data": {
      "text/html": [
       "\n",
       "    <video width=\"840\" height=\"480\" controls>\n",
       "    <source src=\"data:video/mp4;base64,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\" type=\"video/mp4\">\n",
       "    Your browser does not support the video tag.\n",
       "    </video>"
      ],
      "text/plain": [
       "<IPython.core.display.HTML object>"
      ]
     },
     "execution_count": 24,
     "metadata": {},
     "output_type": "execute_result"
    }
   ],
   "source": [
    "filename = \"./videos/lunar_lander.mp4\"\n",
    "\n",
    "utils.create_video(filename, env, q_network)\n",
    "utils.embed_mp4(filename)"
   ]
  },
  {
   "cell_type": "markdown",
   "metadata": {},
   "source": [
    "<a name=\"11\"></a>\n",
    "## 11 - Congratulations!\n",
    "\n",
    "You have successfully used Deep Q-Learning with Experience Replay to train an agent to land a lunar lander safely on a landing pad on the surface of the moon. Congratulations!"
   ]
  },
  {
   "cell_type": "markdown",
   "metadata": {},
   "source": [
    "<a name=\"12\"></a>\n",
    "## 12 - References\n",
    "\n",
    "If you would like to learn more about Deep Q-Learning, we recommend you check out the following papers.\n",
    "\n",
    "\n",
    "* Mnih, V., Kavukcuoglu, K., Silver, D. et al. Human-level control through deep reinforcement learning. Nature 518, 529–533 (2015).\n",
    "\n",
    "\n",
    "* Lillicrap, T. P., Hunt, J. J., Pritzel, A., et al. Continuous Control with Deep Reinforcement Learning. ICLR (2016).\n",
    "\n",
    "\n",
    "* Mnih, V., Kavukcuoglu, K., Silver, D. et al. Playing Atari with Deep Reinforcement Learning. arXiv e-prints.  arXiv:1312.5602 (2013)."
   ]
  },
  {
   "cell_type": "markdown",
   "metadata": {},
   "source": [
    "<details>\n",
    "  <summary><font size=\"2\" color=\"darkgreen\"><b>Please click here if you want to experiment with any of the non-graded code.</b></font></summary>\n",
    "    <p><i><b>Important Note: Please only do this when you've already passed the assignment to avoid problems with the autograder.</b></i>\n",
    "    <ol>\n",
    "        <li> On the notebook’s menu, click “View” > “Cell Toolbar” > “Edit Metadata”</li>\n",
    "        <li> Hit the “Edit Metadata” button next to the code cell which you want to lock/unlock</li>\n",
    "        <li> Set the attribute value for “editable” to:\n",
    "            <ul>\n",
    "                <li> “true” if you want to unlock it </li>\n",
    "                <li> “false” if you want to lock it </li>\n",
    "            </ul>\n",
    "        </li>\n",
    "        <li> On the notebook’s menu, click “View” > “Cell Toolbar” > “None” </li>\n",
    "    </ol>\n",
    "    <p> Here's a short demo of how to do the steps above: \n",
    "        <br>\n",
    "        <img src=\"https://lh3.google.com/u/0/d/14Xy_Mb17CZVgzVAgq7NCjMVBvSae3xO1\" align=\"center\" alt=\"unlock_cells.gif\">\n",
    "</details>"
   ]
  }
 ],
 "metadata": {
  "accelerator": "GPU",
  "colab": {
   "collapsed_sections": [],
   "name": "TensorFlow - Lunar Lander.ipynb",
   "provenance": []
  },
  "kernelspec": {
   "display_name": "Python 3",
   "language": "python",
   "name": "python3"
  },
  "language_info": {
   "codemirror_mode": {
    "name": "ipython",
    "version": 3
   },
   "file_extension": ".py",
   "mimetype": "text/x-python",
   "name": "python",
   "nbconvert_exporter": "python",
   "pygments_lexer": "ipython3",
   "version": "3.7.6"
  }
 },
 "nbformat": 4,
 "nbformat_minor": 1
}
